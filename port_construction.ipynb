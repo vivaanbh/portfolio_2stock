{
 "cells": [
  {
   "cell_type": "code",
   "execution_count": 1,
   "id": "05a11997",
   "metadata": {},
   "outputs": [],
   "source": [
    "import matplotlib.pyplot as plt \n",
    "import numpy as np \n",
    "import pandas as pd\n",
    "import math"
   ]
  },
  {
   "cell_type": "markdown",
   "id": "fb1ce9a0",
   "metadata": {},
   "source": [
    "**1**"
   ]
  },
  {
   "cell_type": "code",
   "execution_count": 2,
   "id": "ce01d024",
   "metadata": {},
   "outputs": [
    {
     "data": {
      "text/html": [
       "<div>\n",
       "<style scoped>\n",
       "    .dataframe tbody tr th:only-of-type {\n",
       "        vertical-align: middle;\n",
       "    }\n",
       "\n",
       "    .dataframe tbody tr th {\n",
       "        vertical-align: top;\n",
       "    }\n",
       "\n",
       "    .dataframe thead th {\n",
       "        text-align: right;\n",
       "    }\n",
       "</style>\n",
       "<table border=\"1\" class=\"dataframe\">\n",
       "  <thead>\n",
       "    <tr style=\"text-align: right;\">\n",
       "      <th></th>\n",
       "      <th>Date</th>\n",
       "      <th>Open</th>\n",
       "      <th>High</th>\n",
       "      <th>Low</th>\n",
       "      <th>Close</th>\n",
       "      <th>Adj Close</th>\n",
       "      <th>Volume</th>\n",
       "    </tr>\n",
       "  </thead>\n",
       "  <tbody>\n",
       "    <tr>\n",
       "      <th>0</th>\n",
       "      <td>2017-08-18</td>\n",
       "      <td>242.899994</td>\n",
       "      <td>244.190002</td>\n",
       "      <td>242.199997</td>\n",
       "      <td>242.710007</td>\n",
       "      <td>221.625076</td>\n",
       "      <td>136748000</td>\n",
       "    </tr>\n",
       "    <tr>\n",
       "      <th>1</th>\n",
       "      <td>2017-08-21</td>\n",
       "      <td>242.639999</td>\n",
       "      <td>243.199997</td>\n",
       "      <td>241.830002</td>\n",
       "      <td>242.899994</td>\n",
       "      <td>221.798553</td>\n",
       "      <td>65469700</td>\n",
       "    </tr>\n",
       "    <tr>\n",
       "      <th>2</th>\n",
       "      <td>2017-08-22</td>\n",
       "      <td>243.570007</td>\n",
       "      <td>245.619995</td>\n",
       "      <td>243.550003</td>\n",
       "      <td>245.440002</td>\n",
       "      <td>224.117874</td>\n",
       "      <td>63140100</td>\n",
       "    </tr>\n",
       "    <tr>\n",
       "      <th>3</th>\n",
       "      <td>2017-08-23</td>\n",
       "      <td>244.330002</td>\n",
       "      <td>245.050003</td>\n",
       "      <td>244.160004</td>\n",
       "      <td>244.559998</td>\n",
       "      <td>223.314331</td>\n",
       "      <td>50203800</td>\n",
       "    </tr>\n",
       "    <tr>\n",
       "      <th>4</th>\n",
       "      <td>2017-08-24</td>\n",
       "      <td>245.000000</td>\n",
       "      <td>245.179993</td>\n",
       "      <td>243.750000</td>\n",
       "      <td>243.990005</td>\n",
       "      <td>222.793839</td>\n",
       "      <td>50741700</td>\n",
       "    </tr>\n",
       "  </tbody>\n",
       "</table>\n",
       "</div>"
      ],
      "text/plain": [
       "         Date        Open        High         Low       Close   Adj Close  \\\n",
       "0  2017-08-18  242.899994  244.190002  242.199997  242.710007  221.625076   \n",
       "1  2017-08-21  242.639999  243.199997  241.830002  242.899994  221.798553   \n",
       "2  2017-08-22  243.570007  245.619995  243.550003  245.440002  224.117874   \n",
       "3  2017-08-23  244.330002  245.050003  244.160004  244.559998  223.314331   \n",
       "4  2017-08-24  245.000000  245.179993  243.750000  243.990005  222.793839   \n",
       "\n",
       "      Volume  \n",
       "0  136748000  \n",
       "1   65469700  \n",
       "2   63140100  \n",
       "3   50203800  \n",
       "4   50741700  "
      ]
     },
     "execution_count": 2,
     "metadata": {},
     "output_type": "execute_result"
    }
   ],
   "source": [
    "spy = pd.read_csv(\"SPY.csv\")\n",
    "aapl = pd.read_csv(\"AAPL.csv\")\n",
    "jpm = pd.read_csv(\"JPM.csv\")\n",
    "spy.head(5)"
   ]
  },
  {
   "cell_type": "code",
   "execution_count": 3,
   "id": "a5071a90",
   "metadata": {},
   "outputs": [
    {
     "data": {
      "text/plain": [
       "<AxesSubplot:xlabel='Date'>"
      ]
     },
     "execution_count": 3,
     "metadata": {},
     "output_type": "execute_result"
    },
    {
     "data": {
      "image/png": "[encoded data removed]",
      "text/plain": [
       "<Figure size 432x288 with 1 Axes>"
      ]
     },
     "metadata": {
      "needs_background": "light"
     },
     "output_type": "display_data"
    }
   ],
   "source": [
    "spy.plot(x='Date', y='Adj Close')"
   ]
  },
  {
   "cell_type": "markdown",
   "id": "4a4cd386",
   "metadata": {},
   "source": [
    "**2**"
   ]
  },
  {
   "cell_type": "code",
   "execution_count": 4,
   "id": "125302c5",
   "metadata": {},
   "outputs": [],
   "source": [
    "spy['Return'] = spy['Adj Close'].pct_change()\n",
    "aapl['AAPL Return'] = aapl['Adj Close'].pct_change()\n",
    "jpm['JPM Return'] = jpm['Adj Close'].pct_change()"
   ]
  },
  {
   "cell_type": "code",
   "execution_count": 5,
   "id": "173e382f",
   "metadata": {
    "scrolled": true
   },
   "outputs": [
    {
     "name": "stdout",
     "output_type": "stream",
     "text": [
      "0         NaN\n",
      "1    0.000783\n",
      "2    0.010457\n",
      "3   -0.003585\n",
      "4   -0.002331\n",
      "Name: Return, dtype: float64\n"
     ]
    }
   ],
   "source": [
    "print(spy['Return'].head())"
   ]
  },
  {
   "cell_type": "code",
   "execution_count": 6,
   "id": "673f0384",
   "metadata": {},
   "outputs": [
    {
     "name": "stdout",
     "output_type": "stream",
     "text": [
      "0         NaN\n",
      "1   -0.001842\n",
      "2    0.016348\n",
      "3    0.001252\n",
      "4   -0.004438\n",
      "Name: AAPL Return, dtype: float64\n"
     ]
    }
   ],
   "source": [
    "print(aapl['AAPL Return'].head())"
   ]
  },
  {
   "cell_type": "code",
   "execution_count": 7,
   "id": "78427f63",
   "metadata": {},
   "outputs": [
    {
     "name": "stdout",
     "output_type": "stream",
     "text": [
      "0         NaN\n",
      "1   -0.001212\n",
      "2    0.010262\n",
      "3    0.001201\n",
      "4   -0.001636\n",
      "Name: JPM Return, dtype: float64\n"
     ]
    }
   ],
   "source": [
    "print(jpm['JPM Return'].head())"
   ]
  },
  {
   "cell_type": "markdown",
   "id": "bf4fafe9",
   "metadata": {},
   "source": [
    "**3**"
   ]
  },
  {
   "cell_type": "code",
   "execution_count": 8,
   "id": "94c37c28",
   "metadata": {},
   "outputs": [],
   "source": [
    "spy = spy.dropna()\n",
    "aapl = aapl.dropna()\n",
    "jpm = jpm.dropna()"
   ]
  },
  {
   "cell_type": "code",
   "execution_count": 9,
   "id": "0b411c1d",
   "metadata": {},
   "outputs": [
    {
     "name": "stdout",
     "output_type": "stream",
     "text": [
      "(1099, 1)\n",
      "(1099, 1)\n"
     ]
    }
   ],
   "source": [
    "X = spy['Return'].values.reshape(-1, 1)\n",
    "Y = aapl['AAPL Return'].values.reshape(-1, 1)\n",
    "\n",
    "print(X.shape)\n",
    "print(Y.shape)"
   ]
  },
  {
   "cell_type": "code",
   "execution_count": 10,
   "id": "3b8c350d",
   "metadata": {},
   "outputs": [],
   "source": [
    "from sklearn.linear_model import LinearRegression"
   ]
  },
  {
   "cell_type": "code",
   "execution_count": 11,
   "id": "1823b59c",
   "metadata": {},
   "outputs": [],
   "source": [
    "lr = LinearRegression()"
   ]
  },
  {
   "cell_type": "code",
   "execution_count": 12,
   "id": "d4a369d5",
   "metadata": {},
   "outputs": [
    {
     "data": {
      "text/plain": [
       "LinearRegression()"
      ]
     },
     "execution_count": 12,
     "metadata": {},
     "output_type": "execute_result"
    }
   ],
   "source": [
    "lr.fit(X, Y)"
   ]
  },
  {
   "cell_type": "code",
   "execution_count": 13,
   "id": "fcb1191a",
   "metadata": {},
   "outputs": [
    {
     "name": "stdout",
     "output_type": "stream",
     "text": [
      "intercept: [0.00067911]\n",
      "beta: [[1.22942321]]\n"
     ]
    }
   ],
   "source": [
    "print(f'intercept: {lr.intercept_}')\n",
    "print(f'beta: {lr.coef_}')"
   ]
  },
  {
   "cell_type": "markdown",
   "id": "6cef0670",
   "metadata": {},
   "source": [
    "**4**"
   ]
  },
  {
   "cell_type": "code",
   "execution_count": 14,
   "id": "a265b69e",
   "metadata": {},
   "outputs": [],
   "source": [
    "app = aapl['AAPL Return']\n",
    "jp = jpm['JPM Return']"
   ]
  },
  {
   "cell_type": "code",
   "execution_count": 15,
   "id": "d3900917",
   "metadata": {},
   "outputs": [],
   "source": [
    "app = pd.DataFrame(app)\n",
    "jp = pd.DataFrame(jp)\n",
    "\n",
    "com = app.join(jp)"
   ]
  },
  {
   "cell_type": "code",
   "execution_count": 16,
   "id": "41edb76f",
   "metadata": {
    "scrolled": true
   },
   "outputs": [
    {
     "data": {
      "text/html": [
       "<div>\n",
       "<style scoped>\n",
       "    .dataframe tbody tr th:only-of-type {\n",
       "        vertical-align: middle;\n",
       "    }\n",
       "\n",
       "    .dataframe tbody tr th {\n",
       "        vertical-align: top;\n",
       "    }\n",
       "\n",
       "    .dataframe thead th {\n",
       "        text-align: right;\n",
       "    }\n",
       "</style>\n",
       "<table border=\"1\" class=\"dataframe\">\n",
       "  <thead>\n",
       "    <tr style=\"text-align: right;\">\n",
       "      <th></th>\n",
       "      <th>AAPL Return</th>\n",
       "      <th>JPM Return</th>\n",
       "    </tr>\n",
       "  </thead>\n",
       "  <tbody>\n",
       "    <tr>\n",
       "      <th>1</th>\n",
       "      <td>-0.001842</td>\n",
       "      <td>-0.001212</td>\n",
       "    </tr>\n",
       "    <tr>\n",
       "      <th>2</th>\n",
       "      <td>0.016348</td>\n",
       "      <td>0.010262</td>\n",
       "    </tr>\n",
       "    <tr>\n",
       "      <th>3</th>\n",
       "      <td>0.001252</td>\n",
       "      <td>0.001201</td>\n",
       "    </tr>\n",
       "    <tr>\n",
       "      <th>4</th>\n",
       "      <td>-0.004438</td>\n",
       "      <td>-0.001636</td>\n",
       "    </tr>\n",
       "    <tr>\n",
       "      <th>5</th>\n",
       "      <td>0.003705</td>\n",
       "      <td>0.004043</td>\n",
       "    </tr>\n",
       "    <tr>\n",
       "      <th>...</th>\n",
       "      <td>...</td>\n",
       "      <td>...</td>\n",
       "    </tr>\n",
       "    <tr>\n",
       "      <th>1095</th>\n",
       "      <td>0.003644</td>\n",
       "      <td>0.003574</td>\n",
       "    </tr>\n",
       "    <tr>\n",
       "      <th>1096</th>\n",
       "      <td>0.022975</td>\n",
       "      <td>0.005723</td>\n",
       "    </tr>\n",
       "    <tr>\n",
       "      <th>1097</th>\n",
       "      <td>-0.005767</td>\n",
       "      <td>0.003035</td>\n",
       "    </tr>\n",
       "    <tr>\n",
       "      <th>1098</th>\n",
       "      <td>0.000502</td>\n",
       "      <td>-0.000504</td>\n",
       "    </tr>\n",
       "    <tr>\n",
       "      <th>1099</th>\n",
       "      <td>-0.006578</td>\n",
       "      <td>-0.000504</td>\n",
       "    </tr>\n",
       "  </tbody>\n",
       "</table>\n",
       "<p>1099 rows × 2 columns</p>\n",
       "</div>"
      ],
      "text/plain": [
       "      AAPL Return  JPM Return\n",
       "1       -0.001842   -0.001212\n",
       "2        0.016348    0.010262\n",
       "3        0.001252    0.001201\n",
       "4       -0.004438   -0.001636\n",
       "5        0.003705    0.004043\n",
       "...           ...         ...\n",
       "1095     0.003644    0.003574\n",
       "1096     0.022975    0.005723\n",
       "1097    -0.005767    0.003035\n",
       "1098     0.000502   -0.000504\n",
       "1099    -0.006578   -0.000504\n",
       "\n",
       "[1099 rows x 2 columns]"
      ]
     },
     "execution_count": 16,
     "metadata": {},
     "output_type": "execute_result"
    }
   ],
   "source": [
    "com"
   ]
  },
  {
   "cell_type": "code",
   "execution_count": 17,
   "id": "529d156e",
   "metadata": {},
   "outputs": [],
   "source": [
    "com['Type'] = ''"
   ]
  },
  {
   "cell_type": "code",
   "execution_count": 18,
   "id": "9ff522c6",
   "metadata": {},
   "outputs": [
    {
     "name": "stderr",
     "output_type": "stream",
     "text": [
      "C:\\Users\\Shivam\\AppData\\Local\\Temp/ipykernel_15452/4194595880.py:5: SettingWithCopyWarning: \n",
      "A value is trying to be set on a copy of a slice from a DataFrame\n",
      "\n",
      "See the caveats in the documentation: https://pandas.pydata.org/pandas-docs/stable/user_guide/indexing.html#returning-a-view-versus-a-copy\n",
      "  com['Type'][i] = 'Historical'\n",
      "C:\\Users\\Shivam\\AppData\\Local\\Temp/ipykernel_15452/4194595880.py:8: SettingWithCopyWarning: \n",
      "A value is trying to be set on a copy of a slice from a DataFrame\n",
      "\n",
      "See the caveats in the documentation: https://pandas.pydata.org/pandas-docs/stable/user_guide/indexing.html#returning-a-view-versus-a-copy\n",
      "  com['Type'][i] = 'Future'\n"
     ]
    },
    {
     "data": {
      "text/html": [
       "<div>\n",
       "<style scoped>\n",
       "    .dataframe tbody tr th:only-of-type {\n",
       "        vertical-align: middle;\n",
       "    }\n",
       "\n",
       "    .dataframe tbody tr th {\n",
       "        vertical-align: top;\n",
       "    }\n",
       "\n",
       "    .dataframe thead th {\n",
       "        text-align: right;\n",
       "    }\n",
       "</style>\n",
       "<table border=\"1\" class=\"dataframe\">\n",
       "  <thead>\n",
       "    <tr style=\"text-align: right;\">\n",
       "      <th></th>\n",
       "      <th>AAPL Return</th>\n",
       "      <th>JPM Return</th>\n",
       "      <th>Type</th>\n",
       "    </tr>\n",
       "  </thead>\n",
       "  <tbody>\n",
       "    <tr>\n",
       "      <th>1</th>\n",
       "      <td>-0.001842</td>\n",
       "      <td>-0.001212</td>\n",
       "      <td>Historical</td>\n",
       "    </tr>\n",
       "    <tr>\n",
       "      <th>2</th>\n",
       "      <td>0.016348</td>\n",
       "      <td>0.010262</td>\n",
       "      <td>Historical</td>\n",
       "    </tr>\n",
       "    <tr>\n",
       "      <th>3</th>\n",
       "      <td>0.001252</td>\n",
       "      <td>0.001201</td>\n",
       "      <td>Historical</td>\n",
       "    </tr>\n",
       "    <tr>\n",
       "      <th>4</th>\n",
       "      <td>-0.004438</td>\n",
       "      <td>-0.001636</td>\n",
       "      <td>Historical</td>\n",
       "    </tr>\n",
       "    <tr>\n",
       "      <th>5</th>\n",
       "      <td>0.003705</td>\n",
       "      <td>0.004043</td>\n",
       "      <td>Historical</td>\n",
       "    </tr>\n",
       "    <tr>\n",
       "      <th>...</th>\n",
       "      <td>...</td>\n",
       "      <td>...</td>\n",
       "      <td>...</td>\n",
       "    </tr>\n",
       "    <tr>\n",
       "      <th>1095</th>\n",
       "      <td>0.003644</td>\n",
       "      <td>0.003574</td>\n",
       "      <td>Future</td>\n",
       "    </tr>\n",
       "    <tr>\n",
       "      <th>1096</th>\n",
       "      <td>0.022975</td>\n",
       "      <td>0.005723</td>\n",
       "      <td>Future</td>\n",
       "    </tr>\n",
       "    <tr>\n",
       "      <th>1097</th>\n",
       "      <td>-0.005767</td>\n",
       "      <td>0.003035</td>\n",
       "      <td>Future</td>\n",
       "    </tr>\n",
       "    <tr>\n",
       "      <th>1098</th>\n",
       "      <td>0.000502</td>\n",
       "      <td>-0.000504</td>\n",
       "      <td>Future</td>\n",
       "    </tr>\n",
       "    <tr>\n",
       "      <th>1099</th>\n",
       "      <td>-0.006578</td>\n",
       "      <td>-0.000504</td>\n",
       "      <td>Future</td>\n",
       "    </tr>\n",
       "  </tbody>\n",
       "</table>\n",
       "<p>1099 rows × 3 columns</p>\n",
       "</div>"
      ],
      "text/plain": [
       "      AAPL Return  JPM Return        Type\n",
       "1       -0.001842   -0.001212  Historical\n",
       "2        0.016348    0.010262  Historical\n",
       "3        0.001252    0.001201  Historical\n",
       "4       -0.004438   -0.001636  Historical\n",
       "5        0.003705    0.004043  Historical\n",
       "...           ...         ...         ...\n",
       "1095     0.003644    0.003574      Future\n",
       "1096     0.022975    0.005723      Future\n",
       "1097    -0.005767    0.003035      Future\n",
       "1098     0.000502   -0.000504      Future\n",
       "1099    -0.006578   -0.000504      Future\n",
       "\n",
       "[1099 rows x 3 columns]"
      ]
     },
     "execution_count": 18,
     "metadata": {},
     "output_type": "execute_result"
    }
   ],
   "source": [
    "i = 0\n",
    "\n",
    "for i in range(0, 1100):\n",
    "    if i <= 100:\n",
    "        com['Type'][i] = 'Historical'\n",
    "        i=i+1\n",
    "    else:\n",
    "        com['Type'][i] = 'Future'\n",
    "        i=i+1\n",
    "        \n",
    "com"
   ]
  },
  {
   "cell_type": "code",
   "execution_count": 19,
   "id": "a9cf522b",
   "metadata": {},
   "outputs": [],
   "source": [
    "hist = com[com['Type'] == 'Historical']\n",
    "fut = com[com['Type'] == 'Future']"
   ]
  },
  {
   "cell_type": "code",
   "execution_count": 20,
   "id": "0fd02cde",
   "metadata": {},
   "outputs": [
    {
     "data": {
      "text/plain": [
       "100"
      ]
     },
     "execution_count": 20,
     "metadata": {},
     "output_type": "execute_result"
    }
   ],
   "source": [
    "len(hist)"
   ]
  },
  {
   "cell_type": "code",
   "execution_count": 21,
   "id": "39aa31c4",
   "metadata": {},
   "outputs": [
    {
     "data": {
      "text/html": [
       "<div>\n",
       "<style scoped>\n",
       "    .dataframe tbody tr th:only-of-type {\n",
       "        vertical-align: middle;\n",
       "    }\n",
       "\n",
       "    .dataframe tbody tr th {\n",
       "        vertical-align: top;\n",
       "    }\n",
       "\n",
       "    .dataframe thead th {\n",
       "        text-align: right;\n",
       "    }\n",
       "</style>\n",
       "<table border=\"1\" class=\"dataframe\">\n",
       "  <thead>\n",
       "    <tr style=\"text-align: right;\">\n",
       "      <th></th>\n",
       "      <th>AAPL Return</th>\n",
       "      <th>JPM Return</th>\n",
       "    </tr>\n",
       "  </thead>\n",
       "  <tbody>\n",
       "    <tr>\n",
       "      <th>count</th>\n",
       "      <td>100.000000</td>\n",
       "      <td>100.000000</td>\n",
       "    </tr>\n",
       "    <tr>\n",
       "      <th>mean</th>\n",
       "      <td>0.001161</td>\n",
       "      <td>0.002157</td>\n",
       "    </tr>\n",
       "    <tr>\n",
       "      <th>std</th>\n",
       "      <td>0.010529</td>\n",
       "      <td>0.009370</td>\n",
       "    </tr>\n",
       "    <tr>\n",
       "      <th>min</th>\n",
       "      <td>-0.025370</td>\n",
       "      <td>-0.023882</td>\n",
       "    </tr>\n",
       "    <tr>\n",
       "      <th>25%</th>\n",
       "      <td>-0.004492</td>\n",
       "      <td>-0.003486</td>\n",
       "    </tr>\n",
       "    <tr>\n",
       "      <th>50%</th>\n",
       "      <td>0.000116</td>\n",
       "      <td>0.001213</td>\n",
       "    </tr>\n",
       "    <tr>\n",
       "      <th>75%</th>\n",
       "      <td>0.006574</td>\n",
       "      <td>0.007643</td>\n",
       "    </tr>\n",
       "    <tr>\n",
       "      <th>max</th>\n",
       "      <td>0.035830</td>\n",
       "      <td>0.035025</td>\n",
       "    </tr>\n",
       "  </tbody>\n",
       "</table>\n",
       "</div>"
      ],
      "text/plain": [
       "       AAPL Return  JPM Return\n",
       "count   100.000000  100.000000\n",
       "mean      0.001161    0.002157\n",
       "std       0.010529    0.009370\n",
       "min      -0.025370   -0.023882\n",
       "25%      -0.004492   -0.003486\n",
       "50%       0.000116    0.001213\n",
       "75%       0.006574    0.007643\n",
       "max       0.035830    0.035025"
      ]
     },
     "execution_count": 21,
     "metadata": {},
     "output_type": "execute_result"
    }
   ],
   "source": [
    "hist.describe()"
   ]
  },
  {
   "cell_type": "markdown",
   "id": "5e465b0c",
   "metadata": {},
   "source": [
    "**AAPL**\n",
    "\n",
    "Mean = 0.116%\n",
    "Std Dev = 1.053%\n",
    "\n",
    "**JPM**\n",
    "\n",
    "Mean = 0.216%\n",
    "Std Dev = 0.937%"
   ]
  },
  {
   "cell_type": "markdown",
   "id": "86d1daf1",
   "metadata": {},
   "source": [
    "**5**"
   ]
  },
  {
   "cell_type": "code",
   "execution_count": 22,
   "id": "b616d687",
   "metadata": {},
   "outputs": [
    {
     "data": {
      "text/plain": [
       "array([[1.        , 0.04786991],\n",
       "       [0.04786991, 1.        ]])"
      ]
     },
     "execution_count": 22,
     "metadata": {},
     "output_type": "execute_result"
    }
   ],
   "source": [
    "np.corrcoef(hist['AAPL Return'], hist['JPM Return'])"
   ]
  },
  {
   "cell_type": "markdown",
   "id": "58957ef3",
   "metadata": {},
   "source": [
    "**Correlation = 0.048**"
   ]
  },
  {
   "cell_type": "markdown",
   "id": "b848fc7e",
   "metadata": {},
   "source": [
    "**6**"
   ]
  },
  {
   "cell_type": "code",
   "execution_count": 23,
   "id": "c756f006",
   "metadata": {},
   "outputs": [],
   "source": [
    "mean_a = hist['AAPL Return'].mean()\n",
    "mean_b = hist['JPM Return'].mean()\n",
    "std_a = hist['AAPL Return'].std()\n",
    "std_b = hist['JPM Return'].std()"
   ]
  },
  {
   "cell_type": "code",
   "execution_count": 24,
   "id": "5be4cb99",
   "metadata": {},
   "outputs": [
    {
     "data": {
      "text/plain": [
       "0.0011608111326204796"
      ]
     },
     "execution_count": 24,
     "metadata": {},
     "output_type": "execute_result"
    }
   ],
   "source": [
    "mean_a"
   ]
  },
  {
   "cell_type": "code",
   "execution_count": 25,
   "id": "d564b431",
   "metadata": {},
   "outputs": [
    {
     "data": {
      "text/plain": [
       "array([[1.       , 0.4561531],\n",
       "       [0.4561531, 1.       ]])"
      ]
     },
     "execution_count": 25,
     "metadata": {},
     "output_type": "execute_result"
    }
   ],
   "source": [
    "np.corrcoef(fut['AAPL Return'], fut['JPM Return'])"
   ]
  },
  {
   "cell_type": "code",
   "execution_count": 26,
   "id": "93f3f623",
   "metadata": {},
   "outputs": [],
   "source": [
    "cor = 0.4561531"
   ]
  },
  {
   "cell_type": "code",
   "execution_count": 27,
   "id": "42d3e613",
   "metadata": {},
   "outputs": [],
   "source": [
    "w1 = [0.2, 0.4, 0.6, 0.8]\n",
    "w2 = [0.8, 0.6, 0.4, 0.2]"
   ]
  },
  {
   "cell_type": "code",
   "execution_count": 28,
   "id": "fc7b7504",
   "metadata": {},
   "outputs": [
    {
     "name": "stdout",
     "output_type": "stream",
     "text": [
      "Portfoio Mean 1: 0.001957483200528952\n",
      "Portfoio Mean 2: 0.0017583151835518333\n",
      "Portfoio Mean 3: 0.0015591471665747157\n",
      "Portfoio Mean 4: 0.0013599791495975976\n"
     ]
    }
   ],
   "source": [
    "for i in range(0, 4):\n",
    "    print(f'Portfoio Mean {(i+1)}: {(w1[i] * mean_a + w2[i] * mean_b)}')\n",
    "    i=i+1"
   ]
  },
  {
   "cell_type": "code",
   "execution_count": 29,
   "id": "7ee97290",
   "metadata": {},
   "outputs": [
    {
     "name": "stdout",
     "output_type": "stream",
     "text": [
      "Portfolio Std Dev 1: 0.824750302049697\n",
      "Portfolio Std Dev 2: 0.721262962583235\n",
      "Portfolio Std Dev 3: 0.721262962583235\n",
      "Portfolio Std Dev 4: 0.824750302049697\n"
     ]
    }
   ],
   "source": [
    "for i in range(0, 4):\n",
    "    var1 = (w1[i])**2 + (std_a)**2\n",
    "    var2 = (w2[i])**2 + (std_b)**2\n",
    "    cov = 2 * (w1[i]) * (w2[i]) * (std_a) * (std_b) * (cor)\n",
    "    var = var1 + var2 + cov\n",
    "    print(f'Portfolio Std Dev {(i+1)}: {math.sqrt(var)}')\n",
    "    i=i+1"
   ]
  },
  {
   "cell_type": "markdown",
   "id": "a52830de",
   "metadata": {},
   "source": [
    "**7**"
   ]
  },
  {
   "cell_type": "code",
   "execution_count": 30,
   "id": "e4f2735e",
   "metadata": {},
   "outputs": [
    {
     "name": "stdout",
     "output_type": "stream",
     "text": [
      "Sharpe Ratio AAPL: 0.1102446286099221\n",
      "Sharpe Ratio JPM: 0.23017291300431122\n"
     ]
    }
   ],
   "source": [
    "print(f'Sharpe Ratio AAPL: {mean_a/std_a}')\n",
    "print(f'Sharpe Ratio JPM: {mean_b/std_b}')"
   ]
  },
  {
   "cell_type": "code",
   "execution_count": 31,
   "id": "a626b933",
   "metadata": {},
   "outputs": [
    {
     "name": "stdout",
     "output_type": "stream",
     "text": [
      "Portfolio Sharpe ratio 1: 0.0023734252605475247\n",
      "Portfolio Sharpe ratio 2: 0.002437828191335862\n",
      "Portfolio Sharpe ratio 3: 0.0021616903230280418\n",
      "Portfolio Sharpe ratio 4: 0.001648958655992889\n"
     ]
    }
   ],
   "source": [
    "for i in range(0,4):\n",
    "    mean = (w1[i] * mean_a + w2[i] * mean_b)\n",
    "    var1 = (w1[i])**2 + (std_a)**2\n",
    "    var2 = (w2[i])**2 + (std_b)**2\n",
    "    cov = 2 * (w1[i]) * (w2[i]) * (std_a) * (std_b) * (cor)\n",
    "    var = var1 + var2 + cov\n",
    "    std = math.sqrt(var)\n",
    "    print(f'Portfolio Sharpe ratio {(i+1)}: {(mean/std)}')\n",
    "    i=i+1"
   ]
  }
 ],
 "metadata": {
  "kernelspec": {
   "display_name": "Python 3 (ipykernel)",
   "language": "python",
   "name": "python3"
  },
  "language_info": {
   "codemirror_mode": {
    "name": "ipython",
    "version": 3
   },
   "file_extension": ".py",
   "mimetype": "text/x-python",
   "name": "python",
   "nbconvert_exporter": "python",
   "pygments_lexer": "ipython3",
   "version": "3.9.13"
  }
 },
 "nbformat": 4,
 "nbformat_minor": 5
}
